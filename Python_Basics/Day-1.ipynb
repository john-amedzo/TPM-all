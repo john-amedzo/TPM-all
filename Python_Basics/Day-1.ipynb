{
 "cells": [
  {
   "cell_type": "markdown",
   "metadata": {},
   "source": [
    "<h1 style=\"\n",
    "font-weight: 500; \n",
    "font-size: 3rem; \n",
    "color: rgba(159, 8, 186, 0.835)\">\n",
    "The Programming Ministry\n",
    "</h1>"
   ]
  },
  {
   "cell_type": "markdown",
   "metadata": {},
   "source": [
    "## Python Basics (Day 1)"
   ]
  },
  {
   "cell_type": "markdown",
   "metadata": {},
   "source": [
    "#### The 'print' keyword/function in python.  "
   ]
  },
  {
   "cell_type": "code",
   "execution_count": 1,
   "metadata": {},
   "outputs": [
    {
     "name": "stdout",
     "output_type": "stream",
     "text": [
      "Hello World\n"
     ]
    }
   ],
   "source": [
    "print('Hello World')  # Outputs whatever input you provide it."
   ]
  },
  {
   "cell_type": "code",
   "execution_count": 2,
   "metadata": {},
   "outputs": [
    {
     "name": "stdout",
     "output_type": "stream",
     "text": [
      "9\n"
     ]
    }
   ],
   "source": [
    "print(5 + 4)"
   ]
  },
  {
   "cell_type": "markdown",
   "metadata": {},
   "source": [
    "#### Commenting in python.  "
   ]
  },
  {
   "cell_type": "markdown",
   "metadata": {},
   "source": [
    "###### Comments are for the readers sake, and are not recognized as code. You add them to remind yourself or help anyone reading your code to understand what your code is doing. the '#' symbol is used to initiate a comment in python."
   ]
  },
  {
   "cell_type": "code",
   "execution_count": 5,
   "metadata": {},
   "outputs": [
    {
     "name": "stdout",
     "output_type": "stream",
     "text": [
      "This is a python code\n"
     ]
    }
   ],
   "source": [
    "# Here, only the line below will be recognized by python as code.\n",
    "\n",
    "print(\"This is a python code\")"
   ]
  },
  {
   "cell_type": "markdown",
   "metadata": {},
   "source": [
    "###### The previous approach to commenting in python is known as 'single-line' commenting."
   ]
  },
  {
   "cell_type": "markdown",
   "metadata": {},
   "source": [
    "#### Multi-line commenting"
   ]
  },
  {
   "cell_type": "markdown",
   "metadata": {},
   "source": [
    "###### The triple quotation symbols \"\"\" or ''' are used to initiate a multi-line comment. "
   ]
  },
  {
   "cell_type": "code",
   "execution_count": 23,
   "metadata": {},
   "outputs": [
    {
     "name": "stdout",
     "output_type": "stream",
     "text": [
      " The big red dog \n",
      " chased the little cat. \n"
     ]
    }
   ],
   "source": [
    "print(\"\"\" The big red dog \n",
    " chased the little cat. \"\"\")"
   ]
  },
  {
   "cell_type": "code",
   "execution_count": 22,
   "metadata": {},
   "outputs": [
    {
     "name": "stdout",
     "output_type": "stream",
     "text": [
      " The big red dog \n",
      " chased the little cat. \n"
     ]
    }
   ],
   "source": [
    "print(''' The big red dog \n",
    " chased the little cat. ''')"
   ]
  },
  {
   "cell_type": "markdown",
   "metadata": {},
   "source": [
    "###### The '\\n' signifies that a new line is present."
   ]
  },
  {
   "cell_type": "code",
   "execution_count": 24,
   "metadata": {},
   "outputs": [
    {
     "name": "stdout",
     "output_type": "stream",
     "text": [
      "\n",
      "Oh Happy Day!\n",
      "0   0\n",
      "  |\n",
      "\\___/ \n",
      "\n"
     ]
    }
   ],
   "source": [
    "print(\"\"\"\n",
    "Oh Happy Day!\n",
    "0   0\n",
    "  |\n",
    "\\___/ \n",
    "\"\"\")"
   ]
  },
  {
   "cell_type": "markdown",
   "metadata": {},
   "source": [
    "#### Variables"
   ]
  },
  {
   "cell_type": "markdown",
   "metadata": {},
   "source": [
    "###### Variables are things that can change. In Python, a user can create a variable by giving it a name and define it by assigning a value to it using the '=' symbol. The value assigned can be a number, letter, word, etc. "
   ]
  },
  {
   "cell_type": "code",
   "execution_count": 19,
   "metadata": {},
   "outputs": [],
   "source": [
    "My_First_Variable = 500"
   ]
  },
  {
   "cell_type": "markdown",
   "metadata": {},
   "source": [
    "###### The variable can then be printed out to view the value(s) it holds. "
   ]
  },
  {
   "cell_type": "code",
   "execution_count": 20,
   "metadata": {},
   "outputs": [
    {
     "name": "stdout",
     "output_type": "stream",
     "text": [
      "500\n"
     ]
    }
   ],
   "source": [
    "print(My_First_Variable)"
   ]
  },
  {
   "cell_type": "markdown",
   "metadata": {},
   "source": [
    "#### Strings in Python"
   ]
  },
  {
   "cell_type": "markdown",
   "metadata": {},
   "source": [
    "###### Strings are a group of characters that are placed between quotation symbols '' or \"\". When done Python will take the characters the way they have been written and make no changes to it, unless changes are initiated. "
   ]
  },
  {
   "cell_type": "code",
   "execution_count": 25,
   "metadata": {},
   "outputs": [
    {
     "name": "stdout",
     "output_type": "stream",
     "text": [
      "Good Morning!\n",
      "Good Morning!\n"
     ]
    }
   ],
   "source": [
    "Greeting_1 = 'Good Morning!'\n",
    "Greeting_2 = \"Good Morning!\"\n",
    "\n",
    "print(Greeting_1)\n",
    "print(Greeting_2)"
   ]
  },
  {
   "cell_type": "markdown",
   "metadata": {},
   "source": [
    "###### What if your string has apostrophe already in it? Let's see what happens and how we can fix it. There are two ways. "
   ]
  },
  {
   "cell_type": "code",
   "execution_count": 26,
   "metadata": {},
   "outputs": [
    {
     "ename": "SyntaxError",
     "evalue": "unterminated string literal (detected at line 1) (2254869113.py, line 1)",
     "output_type": "error",
     "traceback": [
      "\u001b[1;36m  Cell \u001b[1;32mIn[26], line 1\u001b[1;36m\u001b[0m\n\u001b[1;33m    String_1 = 'This is Yao's ball'\u001b[0m\n\u001b[1;37m                                  ^\u001b[0m\n\u001b[1;31mSyntaxError\u001b[0m\u001b[1;31m:\u001b[0m unterminated string literal (detected at line 1)\n"
     ]
    }
   ],
   "source": [
    "String_1 = 'This is Yao's ball'\n",
    "print(String_1)"
   ]
  },
  {
   "cell_type": "code",
   "execution_count": 27,
   "metadata": {},
   "outputs": [],
   "source": [
    "###### In Python, a syntax error refers to error regarding the right way/format of writing certain line(s) of code. Let's fix the above code using two methods."
   ]
  },
  {
   "cell_type": "code",
   "execution_count": 28,
   "metadata": {},
   "outputs": [
    {
     "name": "stdout",
     "output_type": "stream",
     "text": [
      "This is Yao's ball\n"
     ]
    }
   ],
   "source": [
    "# Method 1\n",
    "String_1 = 'This is Yao\\'s ball'\n",
    "print(String_1)"
   ]
  },
  {
   "cell_type": "markdown",
   "metadata": {},
   "source": [
    "###### Did you notice the \\\\' after the Yao? This tells python to overlook whatever comes after the backslash as a string."
   ]
  },
  {
   "cell_type": "markdown",
   "metadata": {},
   "source": [
    "###### You can wrap the string in double quotes instead of single quotes. This also will work just fine. "
   ]
  },
  {
   "cell_type": "code",
   "execution_count": 30,
   "metadata": {},
   "outputs": [
    {
     "name": "stdout",
     "output_type": "stream",
     "text": [
      "This is Yao's ball\n"
     ]
    }
   ],
   "source": [
    "# Method 2\n",
    "String_1 = \"This is Yao's ball\"\n",
    "print(String_1)"
   ]
  },
  {
   "cell_type": "markdown",
   "metadata": {},
   "source": [
    "#### String concatenation"
   ]
  },
  {
   "cell_type": "markdown",
   "metadata": {},
   "source": [
    "###### In Python, strings can be concatenated/added/put together just like numbers! Let's see that."
   ]
  },
  {
   "cell_type": "code",
   "execution_count": 31,
   "metadata": {},
   "outputs": [],
   "source": [
    "# We define variables before we use them.\n",
    "First_Part = 'Good'\n",
    "Second_part = 'Job'\n",
    "Third_Part = ','\n",
    "Fourth_Part = 'Paul'\n",
    "Fifth_Part = '.'"
   ]
  },
  {
   "cell_type": "code",
   "execution_count": 32,
   "metadata": {},
   "outputs": [
    {
     "name": "stdout",
     "output_type": "stream",
     "text": [
      "GoodJob,Paul.\n"
     ]
    }
   ],
   "source": [
    "Concatenated_String = First_Part + Second_part + Third_Part + Fourth_Part + Fifth_Part\n",
    "\n",
    "print(Concatenated_String)"
   ]
  },
  {
   "cell_type": "markdown",
   "metadata": {},
   "source": [
    "###### Notice how the words are put together? Let's add some spaces.\n",
    "###### But since we will be adding the space to many parts, let's make it a variable so that we can use it as many times as we like."
   ]
  },
  {
   "cell_type": "code",
   "execution_count": 33,
   "metadata": {},
   "outputs": [],
   "source": [
    "Space = ' '"
   ]
  },
  {
   "cell_type": "code",
   "execution_count": 37,
   "metadata": {},
   "outputs": [
    {
     "name": "stdout",
     "output_type": "stream",
     "text": [
      "Good Job, Paul.\n"
     ]
    }
   ],
   "source": [
    "Concatenated_String = First_Part + Space + Second_part + Third_Part + Space + Fourth_Part + Fifth_Part\n",
    "\n",
    "print(Concatenated_String)"
   ]
  },
  {
   "cell_type": "markdown",
   "metadata": {},
   "source": [
    "#### f-String in Pyhton"
   ]
  },
  {
   "cell_type": "markdown",
   "metadata": {},
   "source": [
    "###### Let's say you have a string of words but you want to insert a number, another string or a different variable type somewhere within that string. How can you do that? You can do that using Pyhton's f-string function. Let's learn. "
   ]
  },
  {
   "cell_type": "code",
   "execution_count": 52,
   "metadata": {},
   "outputs": [
    {
     "name": "stdout",
     "output_type": "stream",
     "text": [
      "There was a 30 year old man with a bag full of 12 balls made of rice. This is True.\n"
     ]
    }
   ],
   "source": [
    "Age = 30\n",
    "Number_0f_Balls = 12\n",
    "Verification = True\n",
    "\n",
    "print(f'There was a {Age} year old man with a bag full of {Number_0f_Balls} balls made of rice. This is {Verification}.')"
   ]
  },
  {
   "cell_type": "markdown",
   "metadata": {},
   "source": [
    "###### Did you notice the 'f' at the begining of the string? This informs Python that you are going to insert some values, and that they should be included as part of the string."
   ]
  },
  {
   "cell_type": "markdown",
   "metadata": {},
   "source": [
    "#### Input function in Python"
   ]
  },
  {
   "cell_type": "markdown",
   "metadata": {},
   "source": [
    "###### The input funtion in Pyhton is used to recieve input(s) from a user and iputs it into the code for usage. Let's learn."
   ]
  },
  {
   "cell_type": "code",
   "execution_count": 50,
   "metadata": {},
   "outputs": [
    {
     "name": "stdout",
     "output_type": "stream",
     "text": [
      "The name you entered was: Peter\n"
     ]
    }
   ],
   "source": [
    "Username = input('Enter Your Name: ')\n",
    "\n",
    "print(f'The name you entered was: {Username}')"
   ]
  },
  {
   "cell_type": "markdown",
   "metadata": {},
   "source": [
    "#### Default variables in Python"
   ]
  },
  {
   "cell_type": "markdown",
   "metadata": {},
   "source": [
    "###### Recall how you can define your own variables in Python giving them any name of your choosing? Python comes with certain kinds of variables that are known as default variables. \n",
    "###### An example is the 'boolean' variable. \n",
    "###### bool\n",
    "###### float\n",
    "###### int"
   ]
  },
  {
   "cell_type": "markdown",
   "metadata": {
    "vscode": {
     "languageId": "html"
    }
   },
   "source": [
    "<h6 \n",
    "style=\"\n",
    "font-weight: 100; \n",
    "font-size: 1rem; \n",
    "color: rgba(221, 66, 9, 0.801)\">\n",
    "Note that: User-defined variables <u>cannot</u> have the same name as default variables. Also, variables names <u>cannot</u> begin with numbers.\n",
    "</h6>"
   ]
  },
  {
   "cell_type": "code",
   "execution_count": 48,
   "metadata": {},
   "outputs": [
    {
     "name": "stdout",
     "output_type": "stream",
     "text": [
      "True\n",
      "False\n"
     ]
    }
   ],
   "source": [
    "# Boolean variables are True or False. Python recognizes each as 1 or 0 respectively.\n",
    "\n",
    "boolean_1 = True\n",
    "boolean_2 = False\n",
    "\n",
    "print(boolean_1)\n",
    "print(boolean_2)"
   ]
  },
  {
   "cell_type": "code",
   "execution_count": 63,
   "metadata": {},
   "outputs": [
    {
     "name": "stdout",
     "output_type": "stream",
     "text": [
      "1\n",
      "0\n"
     ]
    }
   ],
   "source": [
    "# Let's convert the boolean variables to integers to see what they represent.\n",
    "\n",
    "boolean_1 = int(True)\n",
    "boolean_2 = int(False)\n",
    "\n",
    "print(boolean_1)\n",
    "print(boolean_2)"
   ]
  },
  {
   "cell_type": "markdown",
   "metadata": {},
   "source": [
    "#### Data structures in Pyhton"
   ]
  },
  {
   "cell_type": "markdown",
   "metadata": {},
   "source": [
    "###### Data structures are useful in Python for handling and manipulating data of various kinds."
   ]
  },
  {
   "cell_type": "markdown",
   "metadata": {},
   "source": [
    "###### Lists\n",
    "###### Tuples\n",
    "###### Sets\n",
    "###### Dictionaries"
   ]
  },
  {
   "cell_type": "markdown",
   "metadata": {},
   "source": [
    "#### Lists"
   ]
  },
  {
   "cell_type": "markdown",
   "metadata": {},
   "source": [
    "###### Lists are an ordered group of characters that take the form '[xxxx]'. They are mutable (meaning their contents can be changed). Similar to an array."
   ]
  },
  {
   "cell_type": "code",
   "execution_count": 64,
   "metadata": {},
   "outputs": [
    {
     "name": "stdout",
     "output_type": "stream",
     "text": [
      "[2, 5, 8, 10]\n",
      "['fish', 'fat', 1, 24, 577, True]\n"
     ]
    }
   ],
   "source": [
    "My_List = [2, 5, 8, 10]\n",
    "Can = ['fish', 'fat', 1, 24, 577, True]     # Yes! Lists can take different types as well -strings, integers, booleans, etc.\n",
    "\n",
    "print(My_List)\n",
    "print(Can)"
   ]
  },
  {
   "cell_type": "markdown",
   "metadata": {},
   "source": [
    "#### List access"
   ]
  },
  {
   "cell_type": "markdown",
   "metadata": {},
   "source": [
    "###### A list assigns to all its items, indices starting from 0 to the last item's corresponding index -from left to right. That is, the first item in a list has index 0. Let's access some items in our lists."
   ]
  },
  {
   "cell_type": "code",
   "execution_count": 65,
   "metadata": {},
   "outputs": [],
   "source": [
    "My_List = [2, 5, 8, 10]\n",
    "Can = ['fish', 'fat', 1, 24, 577, True]"
   ]
  },
  {
   "cell_type": "code",
   "execution_count": 66,
   "metadata": {},
   "outputs": [
    {
     "name": "stdout",
     "output_type": "stream",
     "text": [
      "2\n"
     ]
    }
   ],
   "source": [
    "print(My_List[0]) # The first item in My_List is '2' and its index is 0."
   ]
  },
  {
   "cell_type": "code",
   "execution_count": 67,
   "metadata": {},
   "outputs": [
    {
     "name": "stdout",
     "output_type": "stream",
     "text": [
      "24\n"
     ]
    }
   ],
   "source": [
    "print(Can[3]) # '24' is the fourth item in 'Can' but it has an index of 3. As such, we access it through its index."
   ]
  },
  {
   "cell_type": "code",
   "execution_count": null,
   "metadata": {},
   "outputs": [],
   "source": []
  }
 ],
 "metadata": {
  "kernelspec": {
   "display_name": "Python 3",
   "language": "python",
   "name": "python3"
  },
  "language_info": {
   "codemirror_mode": {
    "name": "ipython",
    "version": 3
   },
   "file_extension": ".py",
   "mimetype": "text/x-python",
   "name": "python",
   "nbconvert_exporter": "python",
   "pygments_lexer": "ipython3",
   "version": "3.10.8"
  }
 },
 "nbformat": 4,
 "nbformat_minor": 2
}
