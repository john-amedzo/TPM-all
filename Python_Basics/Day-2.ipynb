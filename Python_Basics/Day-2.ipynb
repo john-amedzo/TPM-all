{
 "cells": [
  {
   "cell_type": "markdown",
   "metadata": {},
   "source": [
    "###### By: John B. Amedzo"
   ]
  },
  {
   "cell_type": "markdown",
   "metadata": {},
   "source": [
    "<h1 style=\"\n",
    "font-weight: 500; \n",
    "font-size: 3rem; \n",
    "color: rgba(159, 8, 186, 0.835)\">\n",
    "The Programming Ministry\n",
    "</h1>"
   ]
  },
  {
   "cell_type": "markdown",
   "metadata": {},
   "source": [
    "## Python Basics (Day 2)"
   ]
  },
  {
   "cell_type": "markdown",
   "metadata": {},
   "source": [
    "#### Slicing / List Slicing"
   ]
  },
  {
   "cell_type": "markdown",
   "metadata": {},
   "source": [
    "###### In Python, we can slice data. Slicing in Python follows this format:=>[start : stop(before) : step over]. \n",
    "###### Let's learn."
   ]
  },
  {
   "cell_type": "code",
   "execution_count": 61,
   "metadata": {},
   "outputs": [],
   "source": [
    "My_Variable = 'The heavy bag' "
   ]
  },
  {
   "cell_type": "code",
   "execution_count": 62,
   "metadata": {},
   "outputs": [],
   "source": [
    "# In Python slicing;\n",
    "# [start : stop(before) : step over]"
   ]
  },
  {
   "cell_type": "code",
   "execution_count": 63,
   "metadata": {},
   "outputs": [
    {
     "name": "stdout",
     "output_type": "stream",
     "text": [
      "The heavy bag\n"
     ]
    }
   ],
   "source": [
    "print(My_Variable[:]) # This tells Python to start from the very beginning -index 0, to the end of the list. "
   ]
  },
  {
   "cell_type": "markdown",
   "metadata": {},
   "source": [
    "<h6 \n",
    "style=\"\n",
    "font-weight: 100; \n",
    "font-size: 1rem; \n",
    "color: rgba(221, 66, 9, 0.801)\">\n",
    "Note that: Python converts whatever you are slicing into a list before slicing it.\n",
    "</h6>"
   ]
  },
  {
   "cell_type": "code",
   "execution_count": 64,
   "metadata": {},
   "outputs": [
    {
     "name": "stdout",
     "output_type": "stream",
     "text": [
      "The heavy bag\n"
     ]
    }
   ],
   "source": [
    "print(My_Variable[0:]) # This is no different from the previous approach."
   ]
  },
  {
   "cell_type": "code",
   "execution_count": 65,
   "metadata": {},
   "outputs": [
    {
     "name": "stdout",
     "output_type": "stream",
     "text": [
      "T\n"
     ]
    }
   ],
   "source": [
    "print(My_Variable[0:1]) # Here, it starts from index 0 and stops before index 1."
   ]
  },
  {
   "cell_type": "code",
   "execution_count": 66,
   "metadata": {},
   "outputs": [
    {
     "name": "stdout",
     "output_type": "stream",
     "text": [
      "T\n"
     ]
    }
   ],
   "source": [
    "print(My_Variable[:1])"
   ]
  },
  {
   "cell_type": "code",
   "execution_count": 67,
   "metadata": {},
   "outputs": [
    {
     "name": "stdout",
     "output_type": "stream",
     "text": [
      "ehayb\n"
     ]
    }
   ],
   "source": [
    "My_Variable = 'The heavy bag'\n",
    "\n",
    "# [start : stop(before) : step over]\n",
    "print(My_Variable[2:11:2])"
   ]
  },
  {
   "cell_type": "markdown",
   "metadata": {},
   "source": [
    "#### Math Functions"
   ]
  },
  {
   "cell_type": "code",
   "execution_count": 68,
   "metadata": {},
   "outputs": [
    {
     "name": "stdout",
     "output_type": "stream",
     "text": [
      "9\n"
     ]
    }
   ],
   "source": [
    "print(5+4)"
   ]
  },
  {
   "cell_type": "code",
   "execution_count": 69,
   "metadata": {},
   "outputs": [
    {
     "name": "stdout",
     "output_type": "stream",
     "text": [
      "6\n"
     ]
    }
   ],
   "source": [
    "Summation = 2 + 4\n",
    "\n",
    "print(Summation)"
   ]
  },
  {
   "cell_type": "code",
   "execution_count": 70,
   "metadata": {},
   "outputs": [
    {
     "name": "stdout",
     "output_type": "stream",
     "text": [
      "8\n",
      "0.5\n",
      "46\n"
     ]
    }
   ],
   "source": [
    "Multiplication = 2 * 4\n",
    "Division = 2 / 4\n",
    "subtraction = 50 - 4\n",
    "\n",
    "print(Multiplication)\n",
    "print(Division)\n",
    "print(subtraction)"
   ]
  },
  {
   "cell_type": "code",
   "execution_count": 71,
   "metadata": {},
   "outputs": [
    {
     "name": "stdout",
     "output_type": "stream",
     "text": [
      "16\n"
     ]
    }
   ],
   "source": [
    "Value = 2**4   # Squaring a number -to the power of the first value.\n",
    "\n",
    "print(Value)"
   ]
  },
  {
   "cell_type": "code",
   "execution_count": 72,
   "metadata": {},
   "outputs": [
    {
     "name": "stdout",
     "output_type": "stream",
     "text": [
      "4\n"
     ]
    }
   ],
   "source": [
    "Value_2 = 550 // 6\n",
    "Value_3 = 4 % 5  # divides but gives the remainder.\n",
    "\n",
    "print(Value_3)"
   ]
  },
  {
   "cell_type": "code",
   "execution_count": 73,
   "metadata": {},
   "outputs": [
    {
     "name": "stdout",
     "output_type": "stream",
     "text": [
      "HiHiHiHiHi\n"
     ]
    }
   ],
   "source": [
    "Greet = 'Hi'\n",
    "\n",
    "print(Greet * 5)"
   ]
  },
  {
   "cell_type": "markdown",
   "metadata": {},
   "source": [
    "#### Homework"
   ]
  },
  {
   "cell_type": "markdown",
   "metadata": {},
   "source": [
    "###### Write a Python code that receives a username and password, and prints out a result telling the user the number of characters the password is made of. In your output, hide the user's password using '*'."
   ]
  },
  {
   "cell_type": "markdown",
   "metadata": {},
   "source": [
    "#### Type checking in Python"
   ]
  },
  {
   "cell_type": "code",
   "execution_count": 74,
   "metadata": {},
   "outputs": [
    {
     "name": "stdout",
     "output_type": "stream",
     "text": [
      "<class 'int'>\n",
      "<class 'str'>\n",
      "<class 'float'>\n",
      "<class 'bool'>\n"
     ]
    }
   ],
   "source": [
    "initial_1 = 0\n",
    "initial_2 = 'Human'\n",
    "initial_3 = 50.5\n",
    "initial_4 = True\n",
    "\n",
    "print(type(initial_1))\n",
    "print(type(initial_2))\n",
    "print(type(initial_3))\n",
    "print(type(initial_4))"
   ]
  },
  {
   "cell_type": "code",
   "execution_count": 75,
   "metadata": {},
   "outputs": [
    {
     "name": "stdout",
     "output_type": "stream",
     "text": [
      "5\n"
     ]
    }
   ],
   "source": [
    "print(len(initial_2))"
   ]
  },
  {
   "cell_type": "code",
   "execution_count": 76,
   "metadata": {},
   "outputs": [
    {
     "name": "stdout",
     "output_type": "stream",
     "text": [
      "False\n"
     ]
    }
   ],
   "source": [
    "print(bool(initial_1))"
   ]
  },
  {
   "cell_type": "markdown",
   "metadata": {},
   "source": [
    "#### List Methods"
   ]
  },
  {
   "cell_type": "code",
   "execution_count": 77,
   "metadata": {},
   "outputs": [],
   "source": [
    "Nums = [2, 4, 6, 8, 10, 12, 50]"
   ]
  },
  {
   "cell_type": "code",
   "execution_count": 78,
   "metadata": {},
   "outputs": [
    {
     "name": "stdout",
     "output_type": "stream",
     "text": [
      "[2, 4, 6, 8, 10, 12, 50, 88]\n"
     ]
    }
   ],
   "source": [
    "Nums.append(88)   # Appends a new input/character to the list.\n",
    "print(Nums)"
   ]
  },
  {
   "cell_type": "code",
   "execution_count": 79,
   "metadata": {},
   "outputs": [
    {
     "name": "stdout",
     "output_type": "stream",
     "text": [
      "[2, 4, 6, 8, 10, 12, 50, 88, 'Eight']\n"
     ]
    }
   ],
   "source": [
    "Nums.append('Eight')\n",
    "print(Nums)"
   ]
  },
  {
   "cell_type": "code",
   "execution_count": 80,
   "metadata": {},
   "outputs": [
    {
     "name": "stdout",
     "output_type": "stream",
     "text": [
      "[2, 4, 6, 8, 10, 12, 50, 88, 'Eight', ['Nine', 45, 48]]\n"
     ]
    }
   ],
   "source": [
    "Nums.append(['Nine', 45, 48]) # Can take lists as well.\n",
    "print(Nums)"
   ]
  },
  {
   "cell_type": "code",
   "execution_count": 81,
   "metadata": {},
   "outputs": [
    {
     "name": "stdout",
     "output_type": "stream",
     "text": [
      "[2, 4, 6, 8, 10, 12, 50, 88, 'Eight', ['Nine', 45, 48], 45]\n"
     ]
    }
   ],
   "source": [
    "Nums.extend([45]) # Recieves lists as inputs. \n",
    "print(Nums)"
   ]
  },
  {
   "cell_type": "code",
   "execution_count": 82,
   "metadata": {},
   "outputs": [
    {
     "name": "stdout",
     "output_type": "stream",
     "text": [
      "[2, 4, 6, 8, 10, 12, 50, 88, 'Eight', ['Nine', 45, 48], 45, 500, 'rt']\n"
     ]
    }
   ],
   "source": [
    "Nums.extend([500,'rt']) # Extends the main list by adding new list items.\n",
    "print(Nums)"
   ]
  },
  {
   "cell_type": "code",
   "execution_count": 83,
   "metadata": {},
   "outputs": [
    {
     "name": "stdout",
     "output_type": "stream",
     "text": [
      "[2, 4, 6, 10, 12, 50, 88, 'Eight', ['Nine', 45, 48], 45, 500, 'rt']\n"
     ]
    }
   ],
   "source": [
    "Nums.pop(3) # Removed the item at index 3.\n",
    "print(Nums)"
   ]
  },
  {
   "cell_type": "code",
   "execution_count": 84,
   "metadata": {},
   "outputs": [
    {
     "name": "stdout",
     "output_type": "stream",
     "text": [
      "[2, 4, 6, 10, 12, 50, 88, 'Eight', ['Nine', 45, 48], 45, 'rt']\n"
     ]
    }
   ],
   "source": [
    "Nums.remove(500) #Removes the given item(s).\n",
    "print(Nums)"
   ]
  },
  {
   "cell_type": "code",
   "execution_count": 85,
   "metadata": {},
   "outputs": [
    {
     "name": "stdout",
     "output_type": "stream",
     "text": [
      "7\n"
     ]
    }
   ],
   "source": [
    "print(Nums.index('Eight')) # Returns the index of the requested item."
   ]
  },
  {
   "cell_type": "code",
   "execution_count": 86,
   "metadata": {},
   "outputs": [
    {
     "name": "stdout",
     "output_type": "stream",
     "text": [
      "[]\n"
     ]
    }
   ],
   "source": [
    "Nums.clear() # Clears or erases list contents.\n",
    "print(Nums)"
   ]
  },
  {
   "cell_type": "code",
   "execution_count": null,
   "metadata": {},
   "outputs": [],
   "source": []
  }
 ],
 "metadata": {
  "kernelspec": {
   "display_name": "Python 3",
   "language": "python",
   "name": "python3"
  },
  "language_info": {
   "codemirror_mode": {
    "name": "ipython",
    "version": 3
   },
   "file_extension": ".py",
   "mimetype": "text/x-python",
   "name": "python",
   "nbconvert_exporter": "python",
   "pygments_lexer": "ipython3",
   "version": "3.10.8"
  }
 },
 "nbformat": 4,
 "nbformat_minor": 2
}
